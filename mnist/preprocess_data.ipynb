{
 "cells": [
  {
   "cell_type": "code",
   "execution_count": 1,
   "metadata": {
    "collapsed": true
   },
   "outputs": [],
   "source": [
    "import csv\n",
    "import numpy as np"
   ]
  },
  {
   "cell_type": "code",
   "execution_count": 2,
   "metadata": {
    "collapsed": false
   },
   "outputs": [
    {
     "name": "stdout",
     "output_type": "stream",
     "text": [
      "(42000, 785)\n"
     ]
    }
   ],
   "source": [
    "with open('../data/mnist/train.csv', newline='') as csvfile:\n",
    "    csv_file_object = csv.reader(csvfile, dialect='excel')\n",
    "    header = csv_file_object.__next__()\n",
    "    \n",
    "    data=[]\n",
    "    for row in csv_file_object:\n",
    "        data.append(row)\n",
    "    data = np.array(data)\n",
    "    data = data.astype(np.float)\n",
    "\n",
    "for i in range(len(data)):\n",
    "    for j in range(len(data[i])):\n",
    "        if j != 0:\n",
    "            data[i][j] = data[i][j] / 256.\n",
    "\n",
    "print(data.shape)"
   ]
  },
  {
   "cell_type": "code",
   "execution_count": 3,
   "metadata": {
    "collapsed": false
   },
   "outputs": [
    {
     "name": "stdout",
     "output_type": "stream",
     "text": [
      "(28000, 784)\n"
     ]
    }
   ],
   "source": [
    "with open('../data/mnist/test.csv', newline='') as csvfile:\n",
    "    csv_file_object = csv.reader(csvfile, dialect='excel')\n",
    "    test_header = csv_file_object.__next__()\n",
    "    \n",
    "    test=[]\n",
    "    for row in csv_file_object:\n",
    "        test.append(row)\n",
    "    test = np.array(test)\n",
    "    test = test.astype(np.float)\n",
    "    \n",
    "for i in range(len(test)):\n",
    "    for j in range(len(test[i])):\n",
    "        test[i][j] = test[i][j] / 256.\n",
    "\n",
    "print(test.shape)"
   ]
  },
  {
   "cell_type": "code",
   "execution_count": 5,
   "metadata": {
    "collapsed": false
   },
   "outputs": [
    {
     "name": "stdout",
     "output_type": "stream",
     "text": [
      "(60000, 785)\n"
     ]
    }
   ],
   "source": [
    "with open('../data/mnist/extern_train.csv', newline='') as csvfile:\n",
    "    csv_file_object = csv.reader(csvfile, dialect='excel')\n",
    "    \n",
    "    extern=[]\n",
    "    for row in csv_file_object:\n",
    "        extern.append(row)\n",
    "    extern = np.array(extern)\n",
    "    extern = extern.astype(np.float)\n",
    "    \n",
    "for i in range(len(extern)):\n",
    "    for j in range(len(extern[i])):\n",
    "        if j != 0:\n",
    "            extern[i][j] = extern[i][j] / 256.\n",
    "\n",
    "print(extern.shape)"
   ]
  },
  {
   "cell_type": "code",
   "execution_count": 6,
   "metadata": {
    "collapsed": true
   },
   "outputs": [],
   "source": [
    "with open('../data/mnist/train_manipulated.csv', 'w', newline='') as csvfile:\n",
    "    csv_file_object = csv.writer(csvfile, dialect='excel')\n",
    "    csv_file_object.writerow(header)\n",
    "    for row in data:\n",
    "        csv_file_object.writerow(row)"
   ]
  },
  {
   "cell_type": "code",
   "execution_count": 7,
   "metadata": {
    "collapsed": false
   },
   "outputs": [],
   "source": [
    "with open('../data/mnist/test_manipulated.csv', 'w', newline='') as csvfile:\n",
    "    csv_file_object = csv.writer(csvfile, dialect='excel')\n",
    "    csv_file_object.writerow(test_header)\n",
    "    for row in test:\n",
    "        csv_file_object.writerow(row)"
   ]
  },
  {
   "cell_type": "code",
   "execution_count": 8,
   "metadata": {
    "collapsed": true
   },
   "outputs": [],
   "source": [
    "with open('../data/mnist/ext_train_manipulated.csv', 'w', newline='') as csvfile:\n",
    "    csv_file_object = csv.writer(csvfile, dialect='excel')\n",
    "    csv_file_object.writerow(header)\n",
    "    for row in extern:\n",
    "        csv_file_object.writerow(row)"
   ]
  }
 ],
 "metadata": {
  "kernelspec": {
   "display_name": "Python 3",
   "language": "python",
   "name": "python3"
  },
  "language_info": {
   "codemirror_mode": {
    "name": "ipython",
    "version": 3
   },
   "file_extension": ".py",
   "mimetype": "text/x-python",
   "name": "python",
   "nbconvert_exporter": "python",
   "pygments_lexer": "ipython3",
   "version": "3.5.1"
  }
 },
 "nbformat": 4,
 "nbformat_minor": 0
}
