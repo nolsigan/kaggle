{
 "cells": [
  {
   "cell_type": "code",
   "execution_count": 1,
   "metadata": {
    "collapsed": true
   },
   "outputs": [],
   "source": [
    "import tensorflow as tf\n",
    "import numpy as np\n",
    "import csv\n",
    "import os\n",
    "import math\n",
    "\n",
    "%matplotlib inline\n",
    "import matplotlib.pyplot as plt"
   ]
  },
  {
   "cell_type": "code",
   "execution_count": 16,
   "metadata": {
    "collapsed": false
   },
   "outputs": [
    {
     "name": "stdout",
     "output_type": "stream",
     "text": [
      "42000\n",
      "(42000, 785)\n",
      "[ 0.00390625  0.          0.          0.          0.          0.          0.\n",
      "  0.          0.          0.          0.          0.          0.          0.\n",
      "  0.          0.          0.          0.          0.          0.          0.\n",
      "  0.          0.          0.          0.          0.          0.          0.\n",
      "  0.          0.          0.          0.          0.          0.          0.\n",
      "  0.          0.          0.          0.          0.          0.          0.\n",
      "  0.          0.          0.          0.          0.          0.          0.\n",
      "  0.          0.          0.          0.          0.          0.          0.\n",
      "  0.          0.          0.          0.          0.          0.          0.\n",
      "  0.          0.          0.          0.          0.          0.          0.\n",
      "  0.          0.          0.          0.          0.          0.          0.\n",
      "  0.          0.          0.          0.          0.          0.          0.\n",
      "  0.          0.          0.          0.          0.          0.          0.\n",
      "  0.          0.          0.          0.          0.          0.          0.\n",
      "  0.          0.          0.          0.          0.          0.          0.\n",
      "  0.          0.          0.          0.          0.          0.          0.\n",
      "  0.          0.          0.          0.          0.          0.          0.\n",
      "  0.          0.          0.          0.          0.          0.          0.\n",
      "  0.          0.          0.          0.          0.          0.          0.\n",
      "  0.734375    0.99609375  0.3671875   0.          0.          0.          0.\n",
      "  0.          0.          0.          0.          0.          0.          0.\n",
      "  0.          0.          0.          0.          0.          0.          0.\n",
      "  0.          0.          0.          0.          0.          0.\n",
      "  0.74609375  0.9765625   0.98828125  0.36328125  0.          0.          0.\n",
      "  0.          0.          0.          0.          0.          0.          0.\n",
      "  0.          0.          0.          0.          0.          0.          0.\n",
      "  0.          0.          0.          0.          0.          0.\n",
      "  0.48046875  0.96875     0.98828125  0.65234375  0.0390625   0.          0.\n",
      "  0.          0.          0.          0.          0.          0.          0.\n",
      "  0.          0.          0.          0.          0.          0.          0.\n",
      "  0.          0.          0.          0.          0.          0.          0.3125\n",
      "  0.96484375  0.98828125  0.8125      0.05078125  0.          0.          0.\n",
      "  0.          0.          0.          0.          0.          0.          0.\n",
      "  0.          0.          0.          0.          0.          0.          0.\n",
      "  0.          0.          0.          0.          0.          0.11328125\n",
      "  0.80859375  0.98828125  0.91796875  0.30078125  0.          0.          0.\n",
      "  0.          0.          0.          0.          0.          0.          0.\n",
      "  0.          0.          0.          0.          0.          0.          0.\n",
      "  0.          0.          0.          0.          0.          0.2109375\n",
      "  0.81640625  0.98828125  0.98828125  0.34375     0.          0.          0.\n",
      "  0.          0.          0.          0.          0.          0.          0.\n",
      "  0.          0.          0.          0.          0.          0.          0.\n",
      "  0.          0.          0.          0.          0.          0.36328125\n",
      "  0.9921875   0.98828125  0.9296875   0.6640625   0.06640625  0.          0.\n",
      "  0.          0.          0.          0.          0.          0.          0.\n",
      "  0.          0.          0.          0.          0.          0.          0.\n",
      "  0.          0.          0.          0.          0.          0.08984375\n",
      "  0.8203125   0.9921875   0.98828125  0.62109375  0.          0.          0.\n",
      "  0.          0.          0.          0.          0.          0.          0.\n",
      "  0.          0.          0.          0.          0.          0.          0.\n",
      "  0.          0.          0.          0.          0.          0.0625\n",
      "  0.81640625  0.98828125  0.9921875   0.9375      0.31640625  0.          0.\n",
      "  0.          0.          0.          0.          0.          0.          0.\n",
      "  0.          0.          0.          0.          0.          0.          0.\n",
      "  0.          0.          0.          0.          0.          0.\n",
      "  0.10546875  0.98828125  0.98828125  0.9921875   0.05078125  0.          0.\n",
      "  0.          0.          0.          0.          0.          0.          0.\n",
      "  0.          0.          0.          0.          0.          0.          0.\n",
      "  0.          0.          0.          0.          0.          0.          0.078125\n",
      "  0.8046875   0.9921875   0.9921875   0.7734375   0.02734375  0.          0.\n",
      "  0.          0.          0.          0.          0.          0.          0.\n",
      "  0.          0.          0.          0.          0.          0.          0.\n",
      "  0.          0.          0.          0.          0.          0.          0.65625\n",
      "  0.98828125  0.98828125  0.765625    0.02734375  0.          0.          0.\n",
      "  0.          0.          0.          0.          0.          0.          0.\n",
      "  0.          0.          0.          0.          0.          0.          0.\n",
      "  0.          0.          0.          0.          0.          0.078125\n",
      "  0.79296875  0.98828125  0.96875     0.296875    0.          0.          0.\n",
      "  0.          0.          0.          0.          0.          0.          0.\n",
      "  0.          0.          0.          0.          0.          0.          0.\n",
      "  0.          0.          0.          0.          0.          0.0859375\n",
      "  0.734375    0.98828125  0.95703125  0.36328125  0.          0.          0.\n",
      "  0.          0.          0.          0.          0.          0.          0.\n",
      "  0.          0.          0.          0.          0.          0.          0.\n",
      "  0.          0.          0.          0.          0.          0.\n",
      "  0.40234375  0.98828125  0.98828125  0.74609375  0.          0.          0.\n",
      "  0.          0.          0.          0.          0.          0.          0.\n",
      "  0.          0.          0.          0.          0.          0.          0.\n",
      "  0.          0.          0.          0.          0.          0.\n",
      "  0.34765625  0.9375      0.98828125  0.76171875  0.09765625  0.          0.\n",
      "  0.          0.          0.          0.          0.          0.          0.\n",
      "  0.          0.          0.          0.          0.          0.          0.\n",
      "  0.          0.          0.          0.          0.          0.\n",
      "  0.05859375  0.859375    0.98828125  0.98828125  0.3125      0.          0.\n",
      "  0.          0.          0.          0.          0.          0.          0.\n",
      "  0.          0.          0.          0.          0.          0.          0.\n",
      "  0.          0.          0.          0.          0.          0.          0.\n",
      "  0.3671875   0.98828125  0.98828125  0.98828125  0.3671875   0.          0.\n",
      "  0.          0.          0.          0.          0.          0.          0.\n",
      "  0.          0.          0.          0.          0.          0.          0.\n",
      "  0.          0.          0.          0.          0.          0.          0.\n",
      "  0.34765625  0.98046875  0.98828125  0.9765625   0.51171875  0.          0.\n",
      "  0.          0.          0.          0.          0.          0.          0.\n",
      "  0.          0.          0.          0.          0.          0.          0.\n",
      "  0.          0.          0.          0.          0.          0.          0.\n",
      "  0.          0.8359375   0.8515625   0.37109375  0.          0.          0.\n",
      "  0.          0.          0.          0.          0.          0.          0.\n",
      "  0.          0.          0.          0.          0.          0.          0.\n",
      "  0.          0.          0.          0.          0.          0.          0.\n",
      "  0.          0.          0.          0.          0.          0.          0.\n",
      "  0.          0.          0.          0.          0.          0.          0.\n",
      "  0.          0.          0.          0.          0.          0.          0.\n",
      "  0.          0.          0.          0.          0.          0.          0.\n",
      "  0.          0.          0.          0.          0.          0.          0.\n",
      "  0.          0.          0.          0.          0.          0.          0.\n",
      "  0.          0.          0.          0.          0.          0.          0.\n",
      "  0.          0.          0.          0.          0.          0.          0.\n",
      "  0.          0.          0.          0.          0.          0.          0.\n",
      "  0.          0.          0.          0.          0.          0.          0.\n",
      "  0.          0.          0.          0.          0.          0.          0.\n",
      "  0.          0.          0.          0.          0.          0.          0.\n",
      "  0.          0.          0.          0.          0.          0.          0.\n",
      "  0.          0.          0.          0.          0.          0.          0.\n",
      "  0.          0.          0.          0.          0.          0.          0.        ]\n"
     ]
    }
   ],
   "source": [
    "with open('../data/mnist/train.csv', newline='') as csvfile:\n",
    "    csv_file_object = csv.reader(csvfile, dialect='excel')\n",
    "    header = csv_file_object.__next__()\n",
    "    \n",
    "    data=[]\n",
    "    for row in csv_file_object:\n",
    "        data.append(row)\n",
    "    data = np.array(data)\n",
    "    data = data.astype(np.float)\n",
    "\n",
    "for x in np.nditer(data, op_flags=['readwrite']):\n",
    "    x[...] = x / 256.\n",
    "\n",
    "print(data.shape)"
   ]
  },
  {
   "cell_type": "code",
   "execution_count": 3,
   "metadata": {
    "collapsed": false
   },
   "outputs": [
    {
     "name": "stdout",
     "output_type": "stream",
     "text": [
      "(28000, 784)\n"
     ]
    }
   ],
   "source": [
    "with open('../data/mnist/test.csv', newline='') as csvfile:\n",
    "    csv_file_object = csv.reader(csvfile, dialect='excel')\n",
    "    haeder = csv_file_object.__next__()\n",
    "    \n",
    "    test=[]\n",
    "    for row in csv_file_object:\n",
    "        test.append(row)\n",
    "    test = np.array(test)\n",
    "    test = test.astype(np.float)\n",
    "    \n",
    "for i in range(len(test)):\n",
    "    for j in range(len(test[i])):\n",
    "        test[i][j] = test[i][j] / 256.\n",
    "\n",
    "print(test.shape)"
   ]
  },
  {
   "cell_type": "code",
   "execution_count": 4,
   "metadata": {
    "collapsed": true
   },
   "outputs": [],
   "source": [
    "# Define constants\n",
    "NUM_CLASSES = 10\n",
    "INPUT_SIZE = 784\n",
    "\n",
    "BATCH_SIZE = 100\n",
    "EVAL_BATCH_SIZE = 1\n",
    "\n",
    "HIDDEN1_UNITS = 128\n",
    "HIDDEN2_UNITS = 128\n",
    "\n",
    "MAX_EPOCHS = 30\n",
    "\n",
    "TRAIN_DIR = \"./checkpoints\""
   ]
  },
  {
   "cell_type": "code",
   "execution_count": 5,
   "metadata": {
    "collapsed": true
   },
   "outputs": [],
   "source": [
    "# Inference Graph\n",
    "def mnist_inference(image, hidden1_units, hidden2_units):\n",
    "    \"\"\"\n",
    "    Args:\n",
    "        image: Image placeholder\n",
    "        hidden1_units: Size of the first hidden layer\n",
    "        hidden2_units: Size of the second hidden layer\n",
    "    Returns:\n",
    "        logits: Output tensor with the computed logits\n",
    "    \"\"\"\n",
    "    # Hidden 1\n",
    "    with tf.name_scope('hidden1'):\n",
    "        weights = tf.Variable(\n",
    "                tf.truncated_normal([INPUT_SIZE, hidden1_units],\n",
    "                                    stddev=1.0 / math.sqrt(float(INPUT_SIZE))),\n",
    "                name='weights')\n",
    "        biases = tf.Variable(tf.zeros([hidden1_units]),\n",
    "                             name='biases')\n",
    "        hidden1 = tf.nn.relu(tf.matmul(image, weights) + biases)\n",
    "    # Hidden 2\n",
    "    with tf.name_scope('hidden2'):\n",
    "        weights = tf.Variable(\n",
    "                tf.truncated_normal([hidden1_units, hidden2_units],\n",
    "                                    stddev=1.0 / math.sqrt(float(hidden1_units))),\n",
    "                name='weights')\n",
    "        biases = tf.Variable(tf.zeros([hidden2_units]),\n",
    "                             name='biases')\n",
    "        hidden2 = tf.nn.relu(tf.matmul(hidden1, weights) + biases)\n",
    "    # Linear\n",
    "    with tf.name_scope('softmax_linear'):\n",
    "        weights = tf.Variable(\n",
    "                tf.truncated_normal([hidden2_units, NUM_CLASSES],\n",
    "                                    stddev=1.0 / math.sqrt(float(hidden2_units))),\n",
    "                name='weights')\n",
    "        biases = tf.Variable(tf.zeros([NUM_CLASSES]),\n",
    "                             name='biases')\n",
    "        logits = tf.matmul(hidden2, weights) + biases\n",
    "        \n",
    "    return logits"
   ]
  },
  {
   "cell_type": "code",
   "execution_count": 6,
   "metadata": {
    "collapsed": true
   },
   "outputs": [],
   "source": [
    "# Build training graph\n",
    "def mnist_training(logits, labels, learning_rate):\n",
    "    \"\"\"\n",
    "    Args:\n",
    "        logits: Logits tensor, float - [BATCH_SIZE, NUM_CLASSES]\n",
    "        labels: Labels tensor, int32 - [BATCH_SIZE]\n",
    "        learning_rate: The learning rate to use for gradient descent\n",
    "    Returns:\n",
    "        train_op: The Op for training\n",
    "        loss: The Op for calculating loss\n",
    "    \"\"\"\n",
    "    labels = tf.to_int64(labels)\n",
    "    cross_entropy = tf.nn.sparse_softmax_cross_entropy_with_logits(\n",
    "        logits, labels, name='xentropy')\n",
    "    loss = tf.reduce_mean(cross_entropy, name='xentropy_mean')\n",
    "    \n",
    "    optimizer = tf.train.GradientDescentOptimizer(learning_rate)\n",
    "    global_step = tf.Variable(0, name='global_step', trainable=False)\n",
    "    train_op = optimizer.minimize(loss, global_step=global_step)\n",
    "    \n",
    "    return train_op, loss"
   ]
  },
  {
   "cell_type": "code",
   "execution_count": 8,
   "metadata": {
    "collapsed": true
   },
   "outputs": [],
   "source": [
    "# Build complete graph\n",
    "mnist_graph = tf.Graph()\n",
    "with mnist_graph.as_default():\n",
    "    # Generate placeholders for the images and labels\n",
    "    inputs_placeholder = tf.placeholder(tf.float32)\n",
    "    labels_placeholder = tf.placeholder(tf.int32)\n",
    "    tf.add_to_collection(\"inputs\", inputs_placeholder)\n",
    "    tf.add_to_collection(\"labels\", labels_placeholder)\n",
    "    \n",
    "    # Build a Graph that computes predictions from the inference model\n",
    "    logits = mnist_inference(inputs_placeholder,\n",
    "                             HIDDEN1_UNITS,\n",
    "                             HIDDEN2_UNITS)\n",
    "    tf.add_to_collection(\"logits\", logits)\n",
    "    \n",
    "    # Add to graph the Ops that calculate and apply gradients\n",
    "    train_op, loss = mnist_training(logits, labels_placeholder, 0.03)\n",
    "    \n",
    "    # Add the variable initializer Op\n",
    "    init = tf.initialize_all_variables()\n",
    "    \n",
    "    # Create a saver for writing training checkpoints\n",
    "    saver = tf.train.Saver()"
   ]
  },
  {
   "cell_type": "code",
   "execution_count": 9,
   "metadata": {
    "collapsed": false
   },
   "outputs": [
    {
     "name": "stdout",
     "output_type": "stream",
     "text": [
      "Epoch 0: loss = 0.98\n",
      "Epoch 1: loss = 0.36\n",
      "Epoch 2: loss = 0.30\n",
      "Epoch 3: loss = 0.27\n",
      "Epoch 4: loss = 0.24\n",
      "Epoch 5: loss = 0.22\n",
      "Epoch 6: loss = 0.20\n",
      "Epoch 7: loss = 0.18\n",
      "Epoch 8: loss = 0.17\n",
      "Epoch 9: loss = 0.15\n",
      "Epoch 10: loss = 0.14\n",
      "Epoch 11: loss = 0.13\n",
      "Epoch 12: loss = 0.12\n",
      "Epoch 13: loss = 0.12\n",
      "Epoch 14: loss = 0.11\n",
      "Epoch 15: loss = 0.10\n",
      "Epoch 16: loss = 0.10\n",
      "Epoch 17: loss = 0.09\n",
      "Epoch 18: loss = 0.09\n",
      "Epoch 19: loss = 0.08\n",
      "Epoch 20: loss = 0.08\n",
      "Epoch 21: loss = 0.07\n",
      "Epoch 22: loss = 0.07\n",
      "Epoch 23: loss = 0.07\n",
      "Epoch 24: loss = 0.06\n",
      "Epoch 25: loss = 0.06\n",
      "Epoch 26: loss = 0.06\n",
      "Epoch 27: loss = 0.06\n",
      "Epoch 28: loss = 0.05\n",
      "Epoch 29: loss = 0.05\n"
     ]
    },
    {
     "data": {
      "image/png": "[encoded data removed]",
      "text/plain": [
       "<matplotlib.figure.Figure at 0x115991320>"
      ]
     },
     "metadata": {},
     "output_type": "display_data"
    }
   ],
   "source": [
    "# Run training for MAX_STEPS and save checkpoint at the end\n",
    "with tf.Session(graph=mnist_graph) as sess:\n",
    "    # Run the Op to initialize variables\n",
    "    sess.run(init)\n",
    "    \n",
    "    # Start the training loop\n",
    "    losses = []\n",
    "    for step in range(MAX_EPOCHS):\n",
    "        # Generate batchs of image\n",
    "        np.random.shuffle(data)\n",
    "        remainder = len(data) % BATCH_SIZE\n",
    "        if remainder != 0:\n",
    "            epoch = data[:-(len(data) % BATCH_SIZE)]\n",
    "        else:\n",
    "            epoch = data\n",
    "        batchs = np.split(epoch, len(epoch) / BATCH_SIZE)\n",
    "        batchs_num = len(batchs)\n",
    "        \n",
    "        batch_loss = 0.\n",
    "        for batch in batchs:\n",
    "            images_feed = batch[0::, 1:]\n",
    "            labels_feed = batch[0::, 0].astype(np.int)\n",
    "            images_feed = np.array(images_feed)\n",
    "            labels_feed = np.array(labels_feed)\n",
    "        \n",
    "            _, loss_value = sess.run([train_op, loss],\n",
    "                                     feed_dict={inputs_placeholder: images_feed,\n",
    "                                                labels_placeholder: labels_feed})\n",
    "            \n",
    "            batch_loss += loss_value / batchs_num\n",
    "            losses.append(loss_value)\n",
    "            \n",
    "        print('Epoch %d: loss = %.2f' % (step, batch_loss))\n",
    "        \n",
    "    # Write a checkpoint\n",
    "    checkpoint_file = os.path.join(TRAIN_DIR, 'checkpoint')\n",
    "    saver.save(sess, checkpoint_file, global_step=step)\n",
    "    plt.plot(losses)"
   ]
  },
  {
   "cell_type": "code",
   "execution_count": 10,
   "metadata": {
    "collapsed": false
   },
   "outputs": [
    {
     "name": "stdout",
     "output_type": "stream",
     "text": [
      "prediction :  2\n"
     ]
    },
    {
     "data": {
      "image/png": "[encoded data removed]",
      "text/plain": [
       "<matplotlib.figure.Figure at 0x12e3c9208>"
      ]
     },
     "metadata": {},
     "output_type": "display_data"
    }
   ],
   "source": [
    "with tf.Session(graph=tf.Graph()) as sess:\n",
    "    saver = tf.train.import_meta_graph(\n",
    "        os.path.join(TRAIN_DIR, 'checkpoint-29.meta'))\n",
    "    saver.restore(\n",
    "        sess, os.path.join(TRAIN_DIR, 'checkpoint-29'))\n",
    "    \n",
    "    # Retrieve Ops\n",
    "    logits = tf.get_collection('logits')[0]\n",
    "    inputs_placeholder = tf.get_collection('inputs')[0]\n",
    "    labels_placeholder = tf.get_collection('labels')[0]\n",
    "    \n",
    "    eval_op = tf.nn.top_k(logits)\n",
    "    \n",
    "    # Run evaluation\n",
    "    inputs_feed = test\n",
    "    labels_feed = test[0::, 0]\n",
    "    labels_feed = np.array(labels_feed)\n",
    "    imgplot = plt.imshow(np.reshape(inputs_feed[0], (28, 28)))\n",
    "    \n",
    "    prediction = sess.run(eval_op,\n",
    "                          feed_dict={inputs_placeholder: inputs_feed,\n",
    "                                    labels_placeholder: labels_feed})\n",
    "    print('prediction : ', prediction.indices[0][0])"
   ]
  },
  {
   "cell_type": "code",
   "execution_count": 13,
   "metadata": {
    "collapsed": true
   },
   "outputs": [],
   "source": [
    "with open('simple_nn.csv', 'w', newline='') as csvfile:\n",
    "    csv_file_object = csv.writer(csvfile, dialect='excel')\n",
    "    csv_file_object.writerow(['ImageId', 'Label'])\n",
    "    for i in range(len(test)):\n",
    "        csv_file_object.writerow([i+1, prediction.indices[i][0]])"
   ]
  },
  {
   "cell_type": "code",
   "execution_count": null,
   "metadata": {
    "collapsed": true
   },
   "outputs": [],
   "source": []
  }
 ],
 "metadata": {
  "kernelspec": {
   "display_name": "Python 3",
   "language": "python",
   "name": "python3"
  },
  "language_info": {
   "codemirror_mode": {
    "name": "ipython",
    "version": 3
   },
   "file_extension": ".py",
   "mimetype": "text/x-python",
   "name": "python",
   "nbconvert_exporter": "python",
   "pygments_lexer": "ipython3",
   "version": "3.5.1"
  }
 },
 "nbformat": 4,
 "nbformat_minor": 0
}
